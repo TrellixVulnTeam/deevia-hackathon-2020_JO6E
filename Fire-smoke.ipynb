{
  "nbformat": 4,
  "nbformat_minor": 0,
  "metadata": {
    "colab": {
      "name": "Fire_smoke.ipynb",
      "provenance": [],
      "collapsed_sections": [],
      "toc_visible": true
    },
    "kernelspec": {
      "name": "python3",
      "display_name": "Python 3"
    }
  },
  "cells": [
    {
      "cell_type": "code",
      "metadata": {
        "colab": {
          "base_uri": "https://localhost:8080/"
        },
        "id": "YYDxW-4j5R2R",
        "outputId": "f4dea777-8fd5-40b9-a830-d8c705634e5e"
      },
      "source": [
        "cd /content/drive/MyDrive/fire_smoke"
      ],
      "execution_count": 2,
      "outputs": [
        {
          "output_type": "stream",
          "text": [
            "/content/drive/MyDrive/fire_smoke\n"
          ],
          "name": "stdout"
        }
      ]
    },
    {
      "cell_type": "code",
      "metadata": {
        "colab": {
          "base_uri": "https://localhost:8080/"
        },
        "id": "1xcdK_t7FxHH",
        "outputId": "5f5f406d-2889-4c5b-f6a3-017bf168eb3a"
      },
      "source": [
        "from google.colab import drive\n",
        "drive.mount('/content/drive')"
      ],
      "execution_count": 1,
      "outputs": [
        {
          "output_type": "stream",
          "text": [
            "Mounted at /content/drive\n"
          ],
          "name": "stdout"
        }
      ]
    },
    {
      "cell_type": "markdown",
      "metadata": {
        "id": "sxawzy0FzJfL"
      },
      "source": [
        "##Clone the repository"
      ]
    },
    {
      "cell_type": "code",
      "metadata": {
        "id": "mHUTOaC75vJN"
      },
      "source": [
        "!git clone https://github.com/tensorflow/models.git"
      ],
      "execution_count": null,
      "outputs": []
    },
    {
      "cell_type": "code",
      "metadata": {
        "id": "y7x1qZXh6otR"
      },
      "source": [
        "cd /content/drive/MyDrive/fire_smoke/models/research"
      ],
      "execution_count": null,
      "outputs": []
    },
    {
      "cell_type": "markdown",
      "metadata": {
        "id": "A3uK8t_LzElI"
      },
      "source": [
        "##Install dependencies"
      ]
    },
    {
      "cell_type": "code",
      "metadata": {
        "id": "jY_pYWRo6zeF"
      },
      "source": [
        "# Compile protos.\r\n",
        "!protoc object_detection/protos/*.proto --python_out=."
      ],
      "execution_count": 8,
      "outputs": []
    },
    {
      "cell_type": "code",
      "metadata": {
        "id": "r4AGH8Db63Ut"
      },
      "source": [
        "# Install TensorFlow Object Detection API.\r\n",
        "!cp object_detection/packages/tf2/setup.py ."
      ],
      "execution_count": 9,
      "outputs": []
    },
    {
      "cell_type": "code",
      "metadata": {
        "id": "unXumPbE6ZKC"
      },
      "source": [
        "!python -m pip install ."
      ],
      "execution_count": null,
      "outputs": []
    },
    {
      "cell_type": "code",
      "metadata": {
        "id": "Fcgb2eDSClTD"
      },
      "source": [
        "pwd"
      ],
      "execution_count": null,
      "outputs": []
    },
    {
      "cell_type": "markdown",
      "metadata": {
        "id": "kzRh8vl-zWuU"
      },
      "source": [
        "##Test Installation"
      ]
    },
    {
      "cell_type": "code",
      "metadata": {
        "id": "KlE1A9hdCmF8"
      },
      "source": [
        "!python object_detection/builders/model_builder_tf2_test.py"
      ],
      "execution_count": null,
      "outputs": []
    },
    {
      "cell_type": "code",
      "metadata": {
        "id": "QwxBvi8YFCqK"
      },
      "source": [
        "cd /content/drive/MyDrive/fire_smoke/models/research/object_detection/"
      ],
      "execution_count": null,
      "outputs": []
    },
    {
      "cell_type": "markdown",
      "metadata": {
        "id": "t1_LFsaRFZ0L"
      },
      "source": [
        "### Converting .xml to .csv"
      ]
    },
    {
      "cell_type": "code",
      "metadata": {
        "id": "6DIH9xbICn5R"
      },
      "source": [
        "import os\r\n",
        "import glob\r\n",
        "import pandas as pd\r\n",
        "import xml.etree.ElementTree as ET\r\n",
        "\r\n",
        "\r\n",
        "def xml_to_csv(path):\r\n",
        "    xml_list = []\r\n",
        "    for xml_file in glob.glob(path + '/*.xml'):\r\n",
        "        tree = ET.parse(xml_file)\r\n",
        "        root = tree.getroot()\r\n",
        "        for member in root.findall('object'):\r\n",
        "            value = (root.find('filename').text,\r\n",
        "                     int(root.find('size')[0].text),\r\n",
        "                     int(root.find('size')[1].text),\r\n",
        "                     member[0].text,\r\n",
        "                     int(member[4][0].text),\r\n",
        "                     int(member[4][1].text),\r\n",
        "                     int(member[4][2].text),\r\n",
        "                     int(member[4][3].text)\r\n",
        "                     )\r\n",
        "            xml_list.append(value)\r\n",
        "    column_name = ['filename', 'width', 'height', 'class', 'xmin', 'ymin', 'xmax', 'ymax']\r\n",
        "    xml_df = pd.DataFrame(xml_list, columns=column_name)\r\n",
        "    return xml_df\r\n",
        "\r\n",
        "\r\n",
        "def main():\r\n",
        "    for folder in ['train', 'test']:\r\n",
        "        image_path = os.path.join(os.getcwd(), ('images/' + folder))\r\n",
        "        xml_df = xml_to_csv(image_path)\r\n",
        "        xml_df.to_csv(('images/'+folder+'_labels.csv'), index=None)\r\n",
        "    print('Successfully converted xml to csv.')\r\n",
        "\r\n",
        "\r\n",
        "main()"
      ],
      "execution_count": null,
      "outputs": []
    },
    {
      "cell_type": "markdown",
      "metadata": {
        "id": "Y46mQ-Xwy-pR"
      },
      "source": [
        "##Generate tfrecord files"
      ]
    },
    {
      "cell_type": "code",
      "metadata": {
        "id": "Oo1yTY4UEwL1"
      },
      "source": [
        "!python generate_tfrecord.py --csv_input=images/train_labels.csv --image_dir=images/train --output_path=train.record"
      ],
      "execution_count": null,
      "outputs": []
    },
    {
      "cell_type": "code",
      "metadata": {
        "id": "ZpmY2i8BGpOa"
      },
      "source": [
        "!python generate_tfrecord.py --csv_input=images/test_labels.csv --image_dir=images/test --output_path=test.record"
      ],
      "execution_count": null,
      "outputs": []
    },
    {
      "cell_type": "code",
      "metadata": {
        "id": "oNuE2Aw3c14v"
      },
      "source": [
        "cd /content/drive/MyDrive/Deevia/TannerGilbert/models/research/object_detection"
      ],
      "execution_count": null,
      "outputs": []
    },
    {
      "cell_type": "markdown",
      "metadata": {
        "id": "hlwfCWZdy7PC"
      },
      "source": [
        "##Train the model"
      ]
    },
    {
      "cell_type": "code",
      "metadata": {
        "id": "PSMRdCzVHAOF"
      },
      "source": [
        "!python model_main_tf2.py \\\r\n",
        "    --pipeline_config_path=/content/drive/MyDrive/Deevia/TannerGilbert/models/research/training/ssd_efficientdet_d0_512x512_coco17_tpu-8.config \\\r\n",
        "    --model_dir=/content/drive/MyDrive/Deevia/TannerGilbert/models/research/training \\\r\n",
        "    --alsologtostderr"
      ],
      "execution_count": null,
      "outputs": []
    },
    {
      "cell_type": "markdown",
      "metadata": {
        "id": "7s4sDl54y08O"
      },
      "source": [
        "##Export model to .pb file"
      ]
    },
    {
      "cell_type": "code",
      "metadata": {
        "id": "JV7hsOpzc-ge"
      },
      "source": [
        "!python exporter_main_v2.py \\\r\n",
        "    --trained_checkpoint_dir=/content/drive/MyDrive/Deevia/TannerGilbert/models/research/training \\\r\n",
        "    --pipeline_config_path=/content/drive/MyDrive/Deevia/TannerGilbert/models/research/training/ssd_efficientdet_d0_512x512_coco17_tpu-8.config \\\r\n",
        "    --output_directory inference_graph"
      ],
      "execution_count": null,
      "outputs": []
    },
    {
      "cell_type": "markdown",
      "metadata": {
        "id": "rtVqzjdPze5L"
      },
      "source": [
        "##Testing"
      ]
    },
    {
      "cell_type": "code",
      "metadata": {
        "id": "zgjC3sOuzgcT"
      },
      "source": [
        "import io\r\n",
        "import os\r\n",
        "import scipy.misc\r\n",
        "import numpy as np\r\n",
        "import six\r\n",
        "import time\r\n",
        "import glob\r\n",
        "from IPython.display import display\r\n",
        "\r\n",
        "from six import BytesIO\r\n",
        "\r\n",
        "import matplotlib\r\n",
        "import matplotlib.pyplot as plt\r\n",
        "from PIL import Image, ImageDraw, ImageFont\r\n",
        "\r\n",
        "import tensorflow as tf\r\n",
        "from object_detection.utils import ops as utils_ops\r\n",
        "from object_detection.utils import label_map_util\r\n",
        "from object_detection.utils import visualization_utils as vis_util\r\n",
        "from protos import string_int_label_map_pb2\r\n",
        "%matplotlib inline"
      ],
      "execution_count": 14,
      "outputs": []
    },
    {
      "cell_type": "code",
      "metadata": {
        "id": "ObkVfM3wzm_D"
      },
      "source": [
        "def load_image_into_numpy_array(path):\r\n",
        "  \"\"\"Load an image from file into a numpy array.\r\n",
        "\r\n",
        "  Puts image into numpy array to feed into tensorflow graph.\r\n",
        "  Note that by convention we put it into a numpy array with shape\r\n",
        "  (height, width, channels), where channels=3 for RGB.\r\n",
        "\r\n",
        "  Args:\r\n",
        "    path: a file path (this can be local or on colossus)\r\n",
        "\r\n",
        "  Returns:\r\n",
        "    uint8 numpy array with shape (img_height, img_width, 3)\r\n",
        "  \"\"\"\r\n",
        "  img_data = tf.io.gfile.GFile(path, 'rb').read()\r\n",
        "  image = Image.open(BytesIO(img_data))\r\n",
        "  (im_width, im_height) = image.size\r\n",
        "  return np.array(image.getdata()).reshape(\r\n",
        "      (im_height, im_width, 3)).astype(np.uint8)"
      ],
      "execution_count": 16,
      "outputs": []
    },
    {
      "cell_type": "code",
      "metadata": {
        "id": "TS83D4VNzx3T"
      },
      "source": [
        "from object_detection.utils import label_map_util\r\n",
        "category_index = label_map_util.create_category_index_from_labelmap('/content/drive/MyDrive/fire_smoke/models/research/training_2/label_map.pbtxt', use_display_name=True)"
      ],
      "execution_count": 17,
      "outputs": []
    },
    {
      "cell_type": "code",
      "metadata": {
        "id": "Us3XvPYZz0cz"
      },
      "source": [
        "tf.keras.backend.clear_session()\r\n",
        "model = tf.saved_model.load(f'/content/drive/MyDrive/fire_smoke/models/research/object_detection/inference_graph/saved_model')"
      ],
      "execution_count": null,
      "outputs": []
    },
    {
      "cell_type": "code",
      "metadata": {
        "id": "3jq_5vVF0bbz"
      },
      "source": [
        "def run_inference_for_single_image(model, image):\r\n",
        "  image = np.asarray(image)\r\n",
        "  # The input needs to be a tensor, convert it using `tf.convert_to_tensor`.\r\n",
        "  input_tensor = tf.convert_to_tensor(image)\r\n",
        "  # The model expects a batch of images, so add an axis with `tf.newaxis`.\r\n",
        "  input_tensor = input_tensor[tf.newaxis,...]\r\n",
        "\r\n",
        "  # Run inference\r\n",
        "  model_fn = model.signatures['serving_default']\r\n",
        "  output_dict = model_fn(input_tensor)\r\n",
        "\r\n",
        "  # All outputs are batches tensors.\r\n",
        "  # Convert to numpy arrays, and take index [0] to remove the batch dimension.\r\n",
        "  # We're only interested in the first num_detections.\r\n",
        "  num_detections = int(output_dict.pop('num_detections'))\r\n",
        "  output_dict = {key:value[0, :num_detections].numpy() \r\n",
        "                 for key,value in output_dict.items()}\r\n",
        "  output_dict['num_detections'] = num_detections\r\n",
        "\r\n",
        "  # detection_classes should be ints.\r\n",
        "  output_dict['detection_classes'] = output_dict['detection_classes'].astype(np.int64)\r\n",
        "   \r\n",
        "  # Handle models with masks:\r\n",
        "  if 'detection_masks' in output_dict:\r\n",
        "    # Reframe the the bbox mask to the image size.\r\n",
        "    detection_masks_reframed = utils_ops.reframe_box_masks_to_image_masks(\r\n",
        "              output_dict['detection_masks'], output_dict['detection_boxes'],\r\n",
        "               image.shape[0], image.shape[1])      \r\n",
        "    detection_masks_reframed = tf.cast(detection_masks_reframed > 0.5,\r\n",
        "                                       tf.uint8)\r\n",
        "    output_dict['detection_masks_reframed'] = detection_masks_reframed.numpy()\r\n",
        "    \r\n",
        "  return output_dict"
      ],
      "execution_count": 22,
      "outputs": []
    },
    {
      "cell_type": "code",
      "metadata": {
        "id": "9Dkl9ovI0qPl"
      },
      "source": [
        "for image_path in glob.glob('/content/drive/MyDrive/fire_smoke/models/research/object_detection/images/test/*.jpg'):\r\n",
        "  image_np = load_image_into_numpy_array(image_path)\r\n",
        "  output_dict = run_inference_for_single_image(model, image_np)\r\n",
        "  vis_util.visualize_boxes_and_labels_on_image_array(\r\n",
        "      image_np,\r\n",
        "      output_dict['detection_boxes'],\r\n",
        "      output_dict['detection_classes'],\r\n",
        "      output_dict['detection_scores'],\r\n",
        "      category_index,\r\n",
        "      instance_masks=output_dict.get('detection_masks_reframed', None),\r\n",
        "      use_normalized_coordinates=True,\r\n",
        "      line_thickness=5)\r\n",
        "  display(Image.fromarray(image_np))"
      ],
      "execution_count": null,
      "outputs": []
    },
    {
      "cell_type": "code",
      "metadata": {
        "id": "qNSuVG9g00lG"
      },
      "source": [
        ""
      ],
      "execution_count": null,
      "outputs": []
    }
  ]
}
